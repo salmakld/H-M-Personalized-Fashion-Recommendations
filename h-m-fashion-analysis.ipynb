{
 "cells": [
  {
   "cell_type": "markdown",
   "id": "ecc9cd1e",
   "metadata": {
    "papermill": {
     "duration": 0.019674,
     "end_time": "2022-03-11T17:00:32.124672",
     "exception": false,
     "start_time": "2022-03-11T17:00:32.104998",
     "status": "completed"
    },
    "tags": []
   },
   "source": [
    "# H&M Personalized Fashion Recommendations: Exploratory Data Analysis (EDA)\n",
    "\n",
    "Description\n"
   ]
  },
  {
   "cell_type": "code",
   "execution_count": 1,
   "id": "39e3db53",
   "metadata": {
    "_cell_guid": "b1076dfc-b9ad-4769-8c92-a6c4dae69d19",
    "_uuid": "8f2839f25d086af736a60e9eeb907d3b93b6e0e5",
    "execution": {
     "iopub.execute_input": "2022-03-11T17:00:32.165078Z",
     "iopub.status.busy": "2022-03-11T17:00:32.163906Z",
     "iopub.status.idle": "2022-03-11T17:00:32.172927Z",
     "shell.execute_reply": "2022-03-11T17:00:32.173463Z",
     "shell.execute_reply.started": "2022-03-11T16:55:44.917177Z"
    },
    "papermill": {
     "duration": 0.030206,
     "end_time": "2022-03-11T17:00:32.173819",
     "exception": false,
     "start_time": "2022-03-11T17:00:32.143613",
     "status": "completed"
    },
    "tags": []
   },
   "outputs": [],
   "source": [
    "import os\n",
    "import numpy as np \n",
    "import pandas as pd"
   ]
  },
  {
   "cell_type": "code",
   "execution_count": 2,
   "id": "0bb85743",
   "metadata": {
    "execution": {
     "iopub.execute_input": "2022-03-11T17:00:32.211741Z",
     "iopub.status.busy": "2022-03-11T17:00:32.211073Z",
     "iopub.status.idle": "2022-03-11T17:00:32.214542Z",
     "shell.execute_reply": "2022-03-11T17:00:32.215137Z",
     "shell.execute_reply.started": "2022-03-11T16:55:44.924367Z"
    },
    "papermill": {
     "duration": 0.024166,
     "end_time": "2022-03-11T17:00:32.215344",
     "exception": false,
     "start_time": "2022-03-11T17:00:32.191178",
     "status": "completed"
    },
    "tags": []
   },
   "outputs": [],
   "source": [
    "images_path = \"../input/h-and-m-personalized-fashion-recommendations/images\"\n",
    "articles_path = \"../input/h-and-m-personalized-fashion-recommendations/articles.csv\"\n",
    "customers_path = \"../input/h-and-m-personalized-fashion-recommendations/customers.csv\"\n",
    "transactions_path = \"../input/h-and-m-personalized-fashion-recommendations/transactions_train.csv\"\n",
    "submission_path = \"../input/h-and-m-personalized-fashion-recommendations/sample_submission.csv\""
   ]
  },
  {
   "cell_type": "markdown",
   "id": "7346657f",
   "metadata": {
    "papermill": {
     "duration": 0.016623,
     "end_time": "2022-03-11T17:00:32.249139",
     "exception": false,
     "start_time": "2022-03-11T17:00:32.232516",
     "status": "completed"
    },
    "tags": []
   },
   "source": [
    "## Articles\n",
    "\n"
   ]
  },
  {
   "cell_type": "code",
   "execution_count": 3,
   "id": "a34461b5",
   "metadata": {
    "execution": {
     "iopub.execute_input": "2022-03-11T17:00:32.286661Z",
     "iopub.status.busy": "2022-03-11T17:00:32.285984Z",
     "iopub.status.idle": "2022-03-11T17:00:36.144497Z",
     "shell.execute_reply": "2022-03-11T17:00:36.145077Z",
     "shell.execute_reply.started": "2022-03-11T16:55:44.936769Z"
    },
    "papermill": {
     "duration": 3.878982,
     "end_time": "2022-03-11T17:00:36.145336",
     "exception": false,
     "start_time": "2022-03-11T17:00:32.266354",
     "status": "completed"
    },
    "tags": []
   },
   "outputs": [
    {
     "name": "stdout",
     "output_type": "stream",
     "text": [
      "Number of articles with images:  105100\n"
     ]
    }
   ],
   "source": [
    "# Number of articles for all customers\n",
    "num_articles = 0\n",
    "for article in sorted(os.listdir(images_path)):\n",
    "    customer_folder = os.listdir(os.path.join(images_path, article))\n",
    "    num_articles += len(customer_folder)\n",
    "print(\"Number of articles with images: \", num_articles)"
   ]
  },
  {
   "cell_type": "code",
   "execution_count": 4,
   "id": "4da796c3",
   "metadata": {
    "execution": {
     "iopub.execute_input": "2022-03-11T17:00:36.192645Z",
     "iopub.status.busy": "2022-03-11T17:00:36.191987Z",
     "iopub.status.idle": "2022-03-11T17:00:37.576387Z",
     "shell.execute_reply": "2022-03-11T17:00:37.576887Z",
     "shell.execute_reply.started": "2022-03-11T16:55:49.816872Z"
    },
    "papermill": {
     "duration": 1.40925,
     "end_time": "2022-03-11T17:00:37.577061",
     "exception": false,
     "start_time": "2022-03-11T17:00:36.167811",
     "status": "completed"
    },
    "tags": []
   },
   "outputs": [
    {
     "name": "stdout",
     "output_type": "stream",
     "text": [
      "105542\n"
     ]
    },
    {
     "data": {
      "text/html": [
       "<div>\n",
       "<style scoped>\n",
       "    .dataframe tbody tr th:only-of-type {\n",
       "        vertical-align: middle;\n",
       "    }\n",
       "\n",
       "    .dataframe tbody tr th {\n",
       "        vertical-align: top;\n",
       "    }\n",
       "\n",
       "    .dataframe thead th {\n",
       "        text-align: right;\n",
       "    }\n",
       "</style>\n",
       "<table border=\"1\" class=\"dataframe\">\n",
       "  <thead>\n",
       "    <tr style=\"text-align: right;\">\n",
       "      <th></th>\n",
       "      <th>article_id</th>\n",
       "      <th>product_code</th>\n",
       "      <th>prod_name</th>\n",
       "      <th>product_type_no</th>\n",
       "      <th>product_type_name</th>\n",
       "      <th>product_group_name</th>\n",
       "      <th>graphical_appearance_no</th>\n",
       "      <th>graphical_appearance_name</th>\n",
       "      <th>colour_group_code</th>\n",
       "      <th>colour_group_name</th>\n",
       "      <th>...</th>\n",
       "      <th>department_name</th>\n",
       "      <th>index_code</th>\n",
       "      <th>index_name</th>\n",
       "      <th>index_group_no</th>\n",
       "      <th>index_group_name</th>\n",
       "      <th>section_no</th>\n",
       "      <th>section_name</th>\n",
       "      <th>garment_group_no</th>\n",
       "      <th>garment_group_name</th>\n",
       "      <th>detail_desc</th>\n",
       "    </tr>\n",
       "  </thead>\n",
       "  <tbody>\n",
       "    <tr>\n",
       "      <th>0</th>\n",
       "      <td>108775015</td>\n",
       "      <td>108775</td>\n",
       "      <td>Strap top</td>\n",
       "      <td>253</td>\n",
       "      <td>Vest top</td>\n",
       "      <td>Garment Upper body</td>\n",
       "      <td>1010016</td>\n",
       "      <td>Solid</td>\n",
       "      <td>9</td>\n",
       "      <td>Black</td>\n",
       "      <td>...</td>\n",
       "      <td>Jersey Basic</td>\n",
       "      <td>A</td>\n",
       "      <td>Ladieswear</td>\n",
       "      <td>1</td>\n",
       "      <td>Ladieswear</td>\n",
       "      <td>16</td>\n",
       "      <td>Womens Everyday Basics</td>\n",
       "      <td>1002</td>\n",
       "      <td>Jersey Basic</td>\n",
       "      <td>Jersey top with narrow shoulder straps.</td>\n",
       "    </tr>\n",
       "    <tr>\n",
       "      <th>1</th>\n",
       "      <td>108775044</td>\n",
       "      <td>108775</td>\n",
       "      <td>Strap top</td>\n",
       "      <td>253</td>\n",
       "      <td>Vest top</td>\n",
       "      <td>Garment Upper body</td>\n",
       "      <td>1010016</td>\n",
       "      <td>Solid</td>\n",
       "      <td>10</td>\n",
       "      <td>White</td>\n",
       "      <td>...</td>\n",
       "      <td>Jersey Basic</td>\n",
       "      <td>A</td>\n",
       "      <td>Ladieswear</td>\n",
       "      <td>1</td>\n",
       "      <td>Ladieswear</td>\n",
       "      <td>16</td>\n",
       "      <td>Womens Everyday Basics</td>\n",
       "      <td>1002</td>\n",
       "      <td>Jersey Basic</td>\n",
       "      <td>Jersey top with narrow shoulder straps.</td>\n",
       "    </tr>\n",
       "    <tr>\n",
       "      <th>2</th>\n",
       "      <td>108775051</td>\n",
       "      <td>108775</td>\n",
       "      <td>Strap top (1)</td>\n",
       "      <td>253</td>\n",
       "      <td>Vest top</td>\n",
       "      <td>Garment Upper body</td>\n",
       "      <td>1010017</td>\n",
       "      <td>Stripe</td>\n",
       "      <td>11</td>\n",
       "      <td>Off White</td>\n",
       "      <td>...</td>\n",
       "      <td>Jersey Basic</td>\n",
       "      <td>A</td>\n",
       "      <td>Ladieswear</td>\n",
       "      <td>1</td>\n",
       "      <td>Ladieswear</td>\n",
       "      <td>16</td>\n",
       "      <td>Womens Everyday Basics</td>\n",
       "      <td>1002</td>\n",
       "      <td>Jersey Basic</td>\n",
       "      <td>Jersey top with narrow shoulder straps.</td>\n",
       "    </tr>\n",
       "    <tr>\n",
       "      <th>3</th>\n",
       "      <td>110065001</td>\n",
       "      <td>110065</td>\n",
       "      <td>OP T-shirt (Idro)</td>\n",
       "      <td>306</td>\n",
       "      <td>Bra</td>\n",
       "      <td>Underwear</td>\n",
       "      <td>1010016</td>\n",
       "      <td>Solid</td>\n",
       "      <td>9</td>\n",
       "      <td>Black</td>\n",
       "      <td>...</td>\n",
       "      <td>Clean Lingerie</td>\n",
       "      <td>B</td>\n",
       "      <td>Lingeries/Tights</td>\n",
       "      <td>1</td>\n",
       "      <td>Ladieswear</td>\n",
       "      <td>61</td>\n",
       "      <td>Womens Lingerie</td>\n",
       "      <td>1017</td>\n",
       "      <td>Under-, Nightwear</td>\n",
       "      <td>Microfibre T-shirt bra with underwired, moulde...</td>\n",
       "    </tr>\n",
       "    <tr>\n",
       "      <th>4</th>\n",
       "      <td>110065002</td>\n",
       "      <td>110065</td>\n",
       "      <td>OP T-shirt (Idro)</td>\n",
       "      <td>306</td>\n",
       "      <td>Bra</td>\n",
       "      <td>Underwear</td>\n",
       "      <td>1010016</td>\n",
       "      <td>Solid</td>\n",
       "      <td>10</td>\n",
       "      <td>White</td>\n",
       "      <td>...</td>\n",
       "      <td>Clean Lingerie</td>\n",
       "      <td>B</td>\n",
       "      <td>Lingeries/Tights</td>\n",
       "      <td>1</td>\n",
       "      <td>Ladieswear</td>\n",
       "      <td>61</td>\n",
       "      <td>Womens Lingerie</td>\n",
       "      <td>1017</td>\n",
       "      <td>Under-, Nightwear</td>\n",
       "      <td>Microfibre T-shirt bra with underwired, moulde...</td>\n",
       "    </tr>\n",
       "  </tbody>\n",
       "</table>\n",
       "<p>5 rows × 25 columns</p>\n",
       "</div>"
      ],
      "text/plain": [
       "   article_id  product_code          prod_name  product_type_no  \\\n",
       "0   108775015        108775          Strap top              253   \n",
       "1   108775044        108775          Strap top              253   \n",
       "2   108775051        108775      Strap top (1)              253   \n",
       "3   110065001        110065  OP T-shirt (Idro)              306   \n",
       "4   110065002        110065  OP T-shirt (Idro)              306   \n",
       "\n",
       "  product_type_name  product_group_name  graphical_appearance_no  \\\n",
       "0          Vest top  Garment Upper body                  1010016   \n",
       "1          Vest top  Garment Upper body                  1010016   \n",
       "2          Vest top  Garment Upper body                  1010017   \n",
       "3               Bra           Underwear                  1010016   \n",
       "4               Bra           Underwear                  1010016   \n",
       "\n",
       "  graphical_appearance_name  colour_group_code colour_group_name  ...  \\\n",
       "0                     Solid                  9             Black  ...   \n",
       "1                     Solid                 10             White  ...   \n",
       "2                    Stripe                 11         Off White  ...   \n",
       "3                     Solid                  9             Black  ...   \n",
       "4                     Solid                 10             White  ...   \n",
       "\n",
       "   department_name index_code        index_name index_group_no  \\\n",
       "0     Jersey Basic          A        Ladieswear              1   \n",
       "1     Jersey Basic          A        Ladieswear              1   \n",
       "2     Jersey Basic          A        Ladieswear              1   \n",
       "3   Clean Lingerie          B  Lingeries/Tights              1   \n",
       "4   Clean Lingerie          B  Lingeries/Tights              1   \n",
       "\n",
       "   index_group_name section_no            section_name garment_group_no  \\\n",
       "0        Ladieswear         16  Womens Everyday Basics             1002   \n",
       "1        Ladieswear         16  Womens Everyday Basics             1002   \n",
       "2        Ladieswear         16  Womens Everyday Basics             1002   \n",
       "3        Ladieswear         61         Womens Lingerie             1017   \n",
       "4        Ladieswear         61         Womens Lingerie             1017   \n",
       "\n",
       "   garment_group_name                                        detail_desc  \n",
       "0        Jersey Basic            Jersey top with narrow shoulder straps.  \n",
       "1        Jersey Basic            Jersey top with narrow shoulder straps.  \n",
       "2        Jersey Basic            Jersey top with narrow shoulder straps.  \n",
       "3   Under-, Nightwear  Microfibre T-shirt bra with underwired, moulde...  \n",
       "4   Under-, Nightwear  Microfibre T-shirt bra with underwired, moulde...  \n",
       "\n",
       "[5 rows x 25 columns]"
      ]
     },
     "execution_count": 4,
     "metadata": {},
     "output_type": "execute_result"
    }
   ],
   "source": [
    "articles_df = pd.read_csv(articles_path)\n",
    "print(len(articles_df))\n",
    "articles_df.sort_values(['article_id'], ascending=True).head()"
   ]
  },
  {
   "cell_type": "markdown",
   "id": "805ca889",
   "metadata": {
    "papermill": {
     "duration": 0.01835,
     "end_time": "2022-03-11T17:00:37.614207",
     "exception": false,
     "start_time": "2022-03-11T17:00:37.595857",
     "status": "completed"
    },
    "tags": []
   },
   "source": [
    "## Customers\n",
    "Customers features after processing:\n",
    "- customer_id - an unique identifier of the customer\n",
    "- FN - binary feature (0 or 1)\n",
    "- Active - binary feature (0 or 1)\n",
    "- club_member_status - status in a club (0, 1, 2 or 3)\n",
    "- fashion_news_frequency - frequency of sending communication to the customer (0, 1 or 2)\n",
    "- age - age of the customer\n",
    "- postal_code - postal code (anonimized), 352 899 unique values"
   ]
  },
  {
   "cell_type": "code",
   "execution_count": 5,
   "id": "649b24f9",
   "metadata": {
    "execution": {
     "iopub.execute_input": "2022-03-11T17:00:37.657348Z",
     "iopub.status.busy": "2022-03-11T17:00:37.656602Z",
     "iopub.status.idle": "2022-03-11T17:00:43.376041Z",
     "shell.execute_reply": "2022-03-11T17:00:43.376609Z",
     "shell.execute_reply.started": "2022-03-11T16:55:50.805382Z"
    },
    "papermill": {
     "duration": 5.744132,
     "end_time": "2022-03-11T17:00:43.376790",
     "exception": false,
     "start_time": "2022-03-11T17:00:37.632658",
     "status": "completed"
    },
    "tags": []
   },
   "outputs": [
    {
     "name": "stdout",
     "output_type": "stream",
     "text": [
      "1371980\n"
     ]
    },
    {
     "data": {
      "text/html": [
       "<div>\n",
       "<style scoped>\n",
       "    .dataframe tbody tr th:only-of-type {\n",
       "        vertical-align: middle;\n",
       "    }\n",
       "\n",
       "    .dataframe tbody tr th {\n",
       "        vertical-align: top;\n",
       "    }\n",
       "\n",
       "    .dataframe thead th {\n",
       "        text-align: right;\n",
       "    }\n",
       "</style>\n",
       "<table border=\"1\" class=\"dataframe\">\n",
       "  <thead>\n",
       "    <tr style=\"text-align: right;\">\n",
       "      <th></th>\n",
       "      <th>customer_id</th>\n",
       "      <th>FN</th>\n",
       "      <th>Active</th>\n",
       "      <th>club_member_status</th>\n",
       "      <th>fashion_news_frequency</th>\n",
       "      <th>age</th>\n",
       "      <th>postal_code</th>\n",
       "    </tr>\n",
       "  </thead>\n",
       "  <tbody>\n",
       "    <tr>\n",
       "      <th>0</th>\n",
       "      <td>00000dbacae5abe5e23885899a1fa44253a17956c6d1c3...</td>\n",
       "      <td>NaN</td>\n",
       "      <td>NaN</td>\n",
       "      <td>ACTIVE</td>\n",
       "      <td>NONE</td>\n",
       "      <td>49.0</td>\n",
       "      <td>52043ee2162cf5aa7ee79974281641c6f11a68d276429a...</td>\n",
       "    </tr>\n",
       "    <tr>\n",
       "      <th>1</th>\n",
       "      <td>0000423b00ade91418cceaf3b26c6af3dd342b51fd051e...</td>\n",
       "      <td>NaN</td>\n",
       "      <td>NaN</td>\n",
       "      <td>ACTIVE</td>\n",
       "      <td>NONE</td>\n",
       "      <td>25.0</td>\n",
       "      <td>2973abc54daa8a5f8ccfe9362140c63247c5eee03f1d93...</td>\n",
       "    </tr>\n",
       "    <tr>\n",
       "      <th>2</th>\n",
       "      <td>000058a12d5b43e67d225668fa1f8d618c13dc232df0ca...</td>\n",
       "      <td>NaN</td>\n",
       "      <td>NaN</td>\n",
       "      <td>ACTIVE</td>\n",
       "      <td>NONE</td>\n",
       "      <td>24.0</td>\n",
       "      <td>64f17e6a330a85798e4998f62d0930d14db8db1c054af6...</td>\n",
       "    </tr>\n",
       "    <tr>\n",
       "      <th>3</th>\n",
       "      <td>00005ca1c9ed5f5146b52ac8639a40ca9d57aeff4d1bd2...</td>\n",
       "      <td>NaN</td>\n",
       "      <td>NaN</td>\n",
       "      <td>ACTIVE</td>\n",
       "      <td>NONE</td>\n",
       "      <td>54.0</td>\n",
       "      <td>5d36574f52495e81f019b680c843c443bd343d5ca5b1c2...</td>\n",
       "    </tr>\n",
       "    <tr>\n",
       "      <th>4</th>\n",
       "      <td>00006413d8573cd20ed7128e53b7b13819fe5cfc2d801f...</td>\n",
       "      <td>1.0</td>\n",
       "      <td>1.0</td>\n",
       "      <td>ACTIVE</td>\n",
       "      <td>Regularly</td>\n",
       "      <td>52.0</td>\n",
       "      <td>25fa5ddee9aac01b35208d01736e57942317d756b32ddd...</td>\n",
       "    </tr>\n",
       "  </tbody>\n",
       "</table>\n",
       "</div>"
      ],
      "text/plain": [
       "                                         customer_id   FN  Active  \\\n",
       "0  00000dbacae5abe5e23885899a1fa44253a17956c6d1c3...  NaN     NaN   \n",
       "1  0000423b00ade91418cceaf3b26c6af3dd342b51fd051e...  NaN     NaN   \n",
       "2  000058a12d5b43e67d225668fa1f8d618c13dc232df0ca...  NaN     NaN   \n",
       "3  00005ca1c9ed5f5146b52ac8639a40ca9d57aeff4d1bd2...  NaN     NaN   \n",
       "4  00006413d8573cd20ed7128e53b7b13819fe5cfc2d801f...  1.0     1.0   \n",
       "\n",
       "  club_member_status fashion_news_frequency   age  \\\n",
       "0             ACTIVE                   NONE  49.0   \n",
       "1             ACTIVE                   NONE  25.0   \n",
       "2             ACTIVE                   NONE  24.0   \n",
       "3             ACTIVE                   NONE  54.0   \n",
       "4             ACTIVE              Regularly  52.0   \n",
       "\n",
       "                                         postal_code  \n",
       "0  52043ee2162cf5aa7ee79974281641c6f11a68d276429a...  \n",
       "1  2973abc54daa8a5f8ccfe9362140c63247c5eee03f1d93...  \n",
       "2  64f17e6a330a85798e4998f62d0930d14db8db1c054af6...  \n",
       "3  5d36574f52495e81f019b680c843c443bd343d5ca5b1c2...  \n",
       "4  25fa5ddee9aac01b35208d01736e57942317d756b32ddd...  "
      ]
     },
     "execution_count": 5,
     "metadata": {},
     "output_type": "execute_result"
    }
   ],
   "source": [
    "customers_df = pd.read_csv(customers_path)\n",
    "print(len(customers_df))\n",
    "customers_df.head()"
   ]
  },
  {
   "cell_type": "code",
   "execution_count": 6,
   "id": "2f9b2227",
   "metadata": {
    "execution": {
     "iopub.execute_input": "2022-03-11T17:00:43.423264Z",
     "iopub.status.busy": "2022-03-11T17:00:43.422259Z",
     "iopub.status.idle": "2022-03-11T17:00:43.453078Z",
     "shell.execute_reply": "2022-03-11T17:00:43.452483Z",
     "shell.execute_reply.started": "2022-03-11T16:55:55.462051Z"
    },
    "papermill": {
     "duration": 0.056515,
     "end_time": "2022-03-11T17:00:43.453253",
     "exception": false,
     "start_time": "2022-03-11T17:00:43.396738",
     "status": "completed"
    },
    "tags": []
   },
   "outputs": [
    {
     "data": {
      "text/html": [
       "<div>\n",
       "<style scoped>\n",
       "    .dataframe tbody tr th:only-of-type {\n",
       "        vertical-align: middle;\n",
       "    }\n",
       "\n",
       "    .dataframe tbody tr th {\n",
       "        vertical-align: top;\n",
       "    }\n",
       "\n",
       "    .dataframe thead th {\n",
       "        text-align: right;\n",
       "    }\n",
       "</style>\n",
       "<table border=\"1\" class=\"dataframe\">\n",
       "  <thead>\n",
       "    <tr style=\"text-align: right;\">\n",
       "      <th></th>\n",
       "      <th>customer_id</th>\n",
       "      <th>FN</th>\n",
       "      <th>Active</th>\n",
       "      <th>club_member_status</th>\n",
       "      <th>fashion_news_frequency</th>\n",
       "      <th>age</th>\n",
       "      <th>postal_code</th>\n",
       "    </tr>\n",
       "  </thead>\n",
       "  <tbody>\n",
       "    <tr>\n",
       "      <th>0</th>\n",
       "      <td>00000dbacae5abe5e23885899a1fa44253a17956c6d1c3...</td>\n",
       "      <td>0.0</td>\n",
       "      <td>0.0</td>\n",
       "      <td>ACTIVE</td>\n",
       "      <td>NONE</td>\n",
       "      <td>49.0</td>\n",
       "      <td>52043ee2162cf5aa7ee79974281641c6f11a68d276429a...</td>\n",
       "    </tr>\n",
       "    <tr>\n",
       "      <th>1</th>\n",
       "      <td>0000423b00ade91418cceaf3b26c6af3dd342b51fd051e...</td>\n",
       "      <td>0.0</td>\n",
       "      <td>0.0</td>\n",
       "      <td>ACTIVE</td>\n",
       "      <td>NONE</td>\n",
       "      <td>25.0</td>\n",
       "      <td>2973abc54daa8a5f8ccfe9362140c63247c5eee03f1d93...</td>\n",
       "    </tr>\n",
       "    <tr>\n",
       "      <th>2</th>\n",
       "      <td>000058a12d5b43e67d225668fa1f8d618c13dc232df0ca...</td>\n",
       "      <td>0.0</td>\n",
       "      <td>0.0</td>\n",
       "      <td>ACTIVE</td>\n",
       "      <td>NONE</td>\n",
       "      <td>24.0</td>\n",
       "      <td>64f17e6a330a85798e4998f62d0930d14db8db1c054af6...</td>\n",
       "    </tr>\n",
       "    <tr>\n",
       "      <th>3</th>\n",
       "      <td>00005ca1c9ed5f5146b52ac8639a40ca9d57aeff4d1bd2...</td>\n",
       "      <td>0.0</td>\n",
       "      <td>0.0</td>\n",
       "      <td>ACTIVE</td>\n",
       "      <td>NONE</td>\n",
       "      <td>54.0</td>\n",
       "      <td>5d36574f52495e81f019b680c843c443bd343d5ca5b1c2...</td>\n",
       "    </tr>\n",
       "    <tr>\n",
       "      <th>4</th>\n",
       "      <td>00006413d8573cd20ed7128e53b7b13819fe5cfc2d801f...</td>\n",
       "      <td>1.0</td>\n",
       "      <td>1.0</td>\n",
       "      <td>ACTIVE</td>\n",
       "      <td>Regularly</td>\n",
       "      <td>52.0</td>\n",
       "      <td>25fa5ddee9aac01b35208d01736e57942317d756b32ddd...</td>\n",
       "    </tr>\n",
       "  </tbody>\n",
       "</table>\n",
       "</div>"
      ],
      "text/plain": [
       "                                         customer_id   FN  Active  \\\n",
       "0  00000dbacae5abe5e23885899a1fa44253a17956c6d1c3...  0.0     0.0   \n",
       "1  0000423b00ade91418cceaf3b26c6af3dd342b51fd051e...  0.0     0.0   \n",
       "2  000058a12d5b43e67d225668fa1f8d618c13dc232df0ca...  0.0     0.0   \n",
       "3  00005ca1c9ed5f5146b52ac8639a40ca9d57aeff4d1bd2...  0.0     0.0   \n",
       "4  00006413d8573cd20ed7128e53b7b13819fe5cfc2d801f...  1.0     1.0   \n",
       "\n",
       "  club_member_status fashion_news_frequency   age  \\\n",
       "0             ACTIVE                   NONE  49.0   \n",
       "1             ACTIVE                   NONE  25.0   \n",
       "2             ACTIVE                   NONE  24.0   \n",
       "3             ACTIVE                   NONE  54.0   \n",
       "4             ACTIVE              Regularly  52.0   \n",
       "\n",
       "                                         postal_code  \n",
       "0  52043ee2162cf5aa7ee79974281641c6f11a68d276429a...  \n",
       "1  2973abc54daa8a5f8ccfe9362140c63247c5eee03f1d93...  \n",
       "2  64f17e6a330a85798e4998f62d0930d14db8db1c054af6...  \n",
       "3  5d36574f52495e81f019b680c843c443bd343d5ca5b1c2...  \n",
       "4  25fa5ddee9aac01b35208d01736e57942317d756b32ddd...  "
      ]
     },
     "execution_count": 6,
     "metadata": {},
     "output_type": "execute_result"
    }
   ],
   "source": [
    "# Replace NaN values with zeros\n",
    "customers_df.FN.fillna(0, inplace=True)\n",
    "customers_df.Active.fillna(0, inplace=True)\n",
    "customers_df.head()"
   ]
  },
  {
   "cell_type": "code",
   "execution_count": 7,
   "id": "20acba02",
   "metadata": {
    "execution": {
     "iopub.execute_input": "2022-03-11T17:00:43.589749Z",
     "iopub.status.busy": "2022-03-11T17:00:43.589017Z",
     "iopub.status.idle": "2022-03-11T17:00:45.456478Z",
     "shell.execute_reply": "2022-03-11T17:00:45.457352Z",
     "shell.execute_reply.started": "2022-03-11T16:55:55.492811Z"
    },
    "papermill": {
     "duration": 1.984262,
     "end_time": "2022-03-11T17:00:45.457639",
     "exception": false,
     "start_time": "2022-03-11T17:00:43.473377",
     "status": "completed"
    },
    "tags": []
   },
   "outputs": [
    {
     "data": {
      "text/plain": [
       "<AxesSubplot:title={'center':'Active'}, ylabel='customer_id'>"
      ]
     },
     "execution_count": 7,
     "metadata": {},
     "output_type": "execute_result"
    },
    {
     "data": {
      "image/png": "[encoded data removed]",
      "text/plain": [
       "<Figure size 432x288 with 1 Axes>"
      ]
     },
     "metadata": {},
     "output_type": "display_data"
    },
    {
     "data": {
      "image/png": "[encoded data removed]",
      "text/plain": [
       "<Figure size 432x288 with 1 Axes>"
      ]
     },
     "metadata": {},
     "output_type": "display_data"
    }
   ],
   "source": [
    "customers_df.groupby('FN').count().plot.pie(y='customer_id', title=\"FN\", autopct='%1.1f%%')\n",
    "customers_df.groupby('Active').count().plot.pie(y='customer_id', title=\"Active\", autopct='%1.1f%%')\n"
   ]
  },
  {
   "cell_type": "code",
   "execution_count": 8,
   "id": "6985d06a",
   "metadata": {
    "execution": {
     "iopub.execute_input": "2022-03-11T17:00:45.530517Z",
     "iopub.status.busy": "2022-03-11T17:00:45.529800Z",
     "iopub.status.idle": "2022-03-11T17:00:47.471292Z",
     "shell.execute_reply": "2022-03-11T17:00:47.471801Z",
     "shell.execute_reply.started": "2022-03-11T16:55:56.757752Z"
    },
    "papermill": {
     "duration": 1.973229,
     "end_time": "2022-03-11T17:00:47.471971",
     "exception": false,
     "start_time": "2022-03-11T17:00:45.498742",
     "status": "completed"
    },
    "tags": []
   },
   "outputs": [
    {
     "name": "stdout",
     "output_type": "stream",
     "text": [
      "['ACTIVE' nan 'PRE-CREATE' 'LEFT CLUB']\n",
      "[1 0 2 3]\n"
     ]
    },
    {
     "data": {
      "text/plain": [
       "<AxesSubplot:xlabel='club_member_status'>"
      ]
     },
     "execution_count": 8,
     "metadata": {},
     "output_type": "execute_result"
    },
    {
     "data": {
      "image/png": "[encoded data removed]",
      "text/plain": [
       "<Figure size 432x288 with 1 Axes>"
      ]
     },
     "metadata": {
      "needs_background": "light"
     },
     "output_type": "display_data"
    }
   ],
   "source": [
    "# Property: club_member_status \n",
    "# nan -> NON ACTIVE -> 0\n",
    "# ACTIVE -> 1\n",
    "# PRE-CREATE -> 2\n",
    "# LEFT CLUB -> 3\n",
    "print(customers_df.club_member_status.unique())\n",
    "customers_df.club_member_status.fillna(0, inplace=True)\n",
    "customers_df.club_member_status.replace('ACTIVE', 1, inplace=True)\n",
    "customers_df.club_member_status.replace('PRE-CREATE', 2, inplace=True)\n",
    "customers_df.club_member_status.replace('LEFT CLUB', 3, inplace=True)\n",
    "print(customers_df.club_member_status.unique())\n",
    "customers_df.groupby('club_member_status').count().customer_id.plot(kind='bar')"
   ]
  },
  {
   "cell_type": "code",
   "execution_count": 9,
   "id": "624b947b",
   "metadata": {
    "execution": {
     "iopub.execute_input": "2022-03-11T17:00:47.566825Z",
     "iopub.status.busy": "2022-03-11T17:00:47.522856Z",
     "iopub.status.idle": "2022-03-11T17:00:49.488596Z",
     "shell.execute_reply": "2022-03-11T17:00:49.489073Z",
     "shell.execute_reply.started": "2022-03-11T16:55:57.991959Z"
    },
    "papermill": {
     "duration": 1.993189,
     "end_time": "2022-03-11T17:00:49.489278",
     "exception": false,
     "start_time": "2022-03-11T17:00:47.496089",
     "status": "completed"
    },
    "tags": []
   },
   "outputs": [
    {
     "name": "stdout",
     "output_type": "stream",
     "text": [
      "['NONE' 'Regularly' nan 'Monthly' 'None']\n",
      "[0 1 2]\n"
     ]
    },
    {
     "data": {
      "text/plain": [
       "<AxesSubplot:title={'center':'fashion_news_frequency'}, xlabel='fashion_news_frequency'>"
      ]
     },
     "execution_count": 9,
     "metadata": {},
     "output_type": "execute_result"
    },
    {
     "data": {
      "image/png": "[encoded data removed]",
      "text/plain": [
       "<Figure size 432x288 with 1 Axes>"
      ]
     },
     "metadata": {
      "needs_background": "light"
     },
     "output_type": "display_data"
    }
   ],
   "source": [
    "# Property: club_member_status \n",
    "# None, nan, NONE -> 0\n",
    "# Regularly -> 1\n",
    "# Monthly -> 2\n",
    "print(customers_df.fashion_news_frequency.unique())\n",
    "customers_df.fashion_news_frequency.fillna(0, inplace=True)\n",
    "customers_df.fashion_news_frequency.replace(['NONE', 'None'], 0, inplace=True)\n",
    "customers_df.fashion_news_frequency.replace('Regularly', 1, inplace=True)\n",
    "customers_df.fashion_news_frequency.replace('Monthly', 2, inplace=True)\n",
    "print(customers_df.fashion_news_frequency.unique())\n",
    "customers_df.groupby('fashion_news_frequency').count().customer_id.plot(kind='bar', title=\"fashion_news_frequency\")"
   ]
  },
  {
   "cell_type": "code",
   "execution_count": 10,
   "id": "3f6d0fcd",
   "metadata": {
    "execution": {
     "iopub.execute_input": "2022-03-11T17:00:49.547440Z",
     "iopub.status.busy": "2022-03-11T17:00:49.546790Z",
     "iopub.status.idle": "2022-03-11T17:00:49.924646Z",
     "shell.execute_reply": "2022-03-11T17:00:49.925130Z",
     "shell.execute_reply.started": "2022-03-11T16:55:59.215399Z"
    },
    "papermill": {
     "duration": 0.408032,
     "end_time": "2022-03-11T17:00:49.925314",
     "exception": false,
     "start_time": "2022-03-11T17:00:49.517282",
     "status": "completed"
    },
    "tags": []
   },
   "outputs": [
    {
     "data": {
      "text/plain": [
       "<AxesSubplot:ylabel='Frequency'>"
      ]
     },
     "execution_count": 10,
     "metadata": {},
     "output_type": "execute_result"
    },
    {
     "data": {
      "image/png": "[encoded data removed]",
      "text/plain": [
       "<Figure size 432x288 with 1 Axes>"
      ]
     },
     "metadata": {
      "needs_background": "light"
     },
     "output_type": "display_data"
    }
   ],
   "source": [
    "# Property: age \n",
    "customers_df.age.fillna(customers_df.age.mean(), inplace=True)\n",
    "customers_df.age.plot.hist()"
   ]
  },
  {
   "cell_type": "code",
   "execution_count": 11,
   "id": "3cd70403",
   "metadata": {
    "execution": {
     "iopub.execute_input": "2022-03-11T17:00:49.984953Z",
     "iopub.status.busy": "2022-03-11T17:00:49.983907Z",
     "iopub.status.idle": "2022-03-11T17:00:52.253394Z",
     "shell.execute_reply": "2022-03-11T17:00:52.252679Z",
     "shell.execute_reply.started": "2022-03-11T16:55:59.567351Z"
    },
    "papermill": {
     "duration": 2.300398,
     "end_time": "2022-03-11T17:00:52.253539",
     "exception": false,
     "start_time": "2022-03-11T17:00:49.953141",
     "status": "completed"
    },
    "tags": []
   },
   "outputs": [
    {
     "name": "stdout",
     "output_type": "stream",
     "text": [
      "352899\n"
     ]
    }
   ],
   "source": [
    "# Property: postal_code \n",
    "# Postal code \n",
    "print(len(customers_df.postal_code.unique()))\n",
    "# Number of customers per postal code\n",
    "nb_cs_pc_df = customers_df.groupby('postal_code').count().customer_id\n"
   ]
  },
  {
   "cell_type": "markdown",
   "id": "bb9b4e06",
   "metadata": {
    "papermill": {
     "duration": 0.027444,
     "end_time": "2022-03-11T17:00:52.310323",
     "exception": false,
     "start_time": "2022-03-11T17:00:52.282879",
     "status": "completed"
    },
    "tags": []
   },
   "source": [
    "## Transactions"
   ]
  },
  {
   "cell_type": "code",
   "execution_count": 12,
   "id": "42b0fa13",
   "metadata": {
    "execution": {
     "iopub.execute_input": "2022-03-11T17:00:52.370106Z",
     "iopub.status.busy": "2022-03-11T17:00:52.369482Z",
     "iopub.status.idle": "2022-03-11T17:00:52.372124Z",
     "shell.execute_reply": "2022-03-11T17:00:52.371629Z",
     "shell.execute_reply.started": "2022-03-11T16:56:01.379023Z"
    },
    "papermill": {
     "duration": 0.034201,
     "end_time": "2022-03-11T17:00:52.372286",
     "exception": false,
     "start_time": "2022-03-11T17:00:52.338085",
     "status": "completed"
    },
    "tags": []
   },
   "outputs": [],
   "source": [
    "# transactions_df = pd.read_csv(transactions_path)\n",
    "# print(len(transactions_df))\n",
    "# transactions_df.head()"
   ]
  },
  {
   "cell_type": "code",
   "execution_count": null,
   "id": "5e201530",
   "metadata": {
    "papermill": {
     "duration": 0.027386,
     "end_time": "2022-03-11T17:00:52.427387",
     "exception": false,
     "start_time": "2022-03-11T17:00:52.400001",
     "status": "completed"
    },
    "tags": []
   },
   "outputs": [],
   "source": []
  },
  {
   "cell_type": "code",
   "execution_count": null,
   "id": "0034b6da",
   "metadata": {
    "papermill": {
     "duration": 0.027099,
     "end_time": "2022-03-11T17:00:52.482115",
     "exception": false,
     "start_time": "2022-03-11T17:00:52.455016",
     "status": "completed"
    },
    "tags": []
   },
   "outputs": [],
   "source": []
  }
 ],
 "metadata": {
  "kernelspec": {
   "display_name": "Python 3",
   "language": "python",
   "name": "python3"
  },
  "language_info": {
   "codemirror_mode": {
    "name": "ipython",
    "version": 3
   },
   "file_extension": ".py",
   "mimetype": "text/x-python",
   "name": "python",
   "nbconvert_exporter": "python",
   "pygments_lexer": "ipython3",
   "version": "3.7.12"
  },
  "papermill": {
   "default_parameters": {},
   "duration": 31.326201,
   "end_time": "2022-03-11T17:00:53.322775",
   "environment_variables": {},
   "exception": null,
   "input_path": "__notebook__.ipynb",
   "output_path": "__notebook__.ipynb",
   "parameters": {},
   "start_time": "2022-03-11T17:00:21.996574",
   "version": "2.3.3"
  }
 },
 "nbformat": 4,
 "nbformat_minor": 5
}
